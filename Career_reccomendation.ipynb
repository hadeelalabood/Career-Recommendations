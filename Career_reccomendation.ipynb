{
  "metadata": {
    "kernelspec": {
      "name": "python",
      "display_name": "Python (Pyodide)",
      "language": "python"
    },
    "language_info": {
      "codemirror_mode": {
        "name": "python",
        "version": 3
      },
      "file_extension": ".py",
      "mimetype": "text/x-python",
      "name": "python",
      "nbconvert_exporter": "python",
      "pygments_lexer": "ipython3",
      "version": "3.8"
    }
  },
  "nbformat_minor": 5,
  "nbformat": 4,
  "cells": [
    {
      "id": "29c30a2e-0014-4c53-abc0-4d6157db5a47",
      "cell_type": "markdown",
      "source": "# Goal of the dataset",
      "metadata": {
        "jp-MarkdownHeadingCollapsed": true
      }
    },
    {
      "id": "618e6dbe-d2a6-46f2-b3ba-d430e8114494",
      "cell_type": "markdown",
      "source": "# Source of the dataset",
      "metadata": {}
    },
    {
      "id": "aa4494ee-2aab-4a02-b896-64b0c082cde0",
      "cell_type": "markdown",
      "source": "# General Information\nThis dataset consists of 2000 rows and 8 columns\nThe 8 columns are:\n1-\tId \n\n2-\tcareerjunction_za_courses,\n\n3-\tcareerjunction_za_employer_names,\n\n4-\tcareerjunction_za_future_jobtitles,\n\n5-\tcareerjunction_za_historical_jobtitles,\n\n6-\t'careerjunction_za_primary_jobtitle,\n\n7-\tcareerjunction_za_recent_jobtitles,\n\n8-\tcareerjunction_za_skills.\n\n The number of observations were 2000.\n Number and type of variables:\n| Variable                              | Description                                                               | Variable Type   |\n|---------------------------------------|---------------------------------------------------------------------------|-----------------|\n| ID                                    | Unique identifier for the profile.                                        | String |\n| careerjunction_za_courses             | Titles for education/courses the profile has completed.                   | List of Strings|\n| careerjunction_za_employer_names      | All employers worked for.                                                 | List of Strings|\n| careerjunction_za_future_jobtitles    | Job titles the seeker would like to have as their next job.               | List of Strings|\n| careerjunction_za_historical_jobtitles|All other job titles after the recent ones (from the 4th job title onward).| List of Strings|\n| careerjunction_za_primary_jobtitle    | Most recent job title of the profile.                                     | String |\n| careerjunction_za_recent_jobtitles    | The next job titles after the most recent one (max 2).                    | List of Strings|\n| careerjunction_za_skills              | All the skills associated with the profile.                               | List of Strings|\n\ndf.careerjunction_za_future_jobtitles.value_counts().head(10)  \n     \n[]                          656\n\n[u'Software Developer']      24\n\n[u'Developer']               15\n\n[u'Java Developer']          13\n\n[u'Web Developer']            7\n\n[u'software developer']       6\n\n[u'Senior Developer']         5\n\n[u'Business Analyst']         5\n\n[u'Senior C# Developer']      4\n\n[u'Analyst']                  3\n\n•[] 656\n\nAs we can see from the result above The value counts for careerjunction_za_future_jobtitles reveal that the most common future job title is an empty list ([]), which appears 656 times. This indicates that many profiles have not specified a future job title.\n\n",
      "metadata": {}
    },
    {
      "id": "db500bc4-9b48-43b6-9a3f-d750cf682193",
      "cell_type": "markdown",
      "source": "# Summary of the dataset",
      "metadata": {}
    },
    {
      "id": "b116573d-c205-424f-bf72-af19a4249d23",
      "cell_type": "markdown",
      "source": "# Preprocessing techniques",
      "metadata": {}
    }
  ]
}
