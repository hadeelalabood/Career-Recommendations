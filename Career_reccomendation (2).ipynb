{
 "cells": [
  {
   "cell_type": "markdown",
   "id": "e47a64c9-6b0f-44e0-bd67-3597057d1478",
   "metadata": {},
   "source": [
    "## Goal of the Dataset\r\n",
    "\r\n",
    "The purpose of collecting this dataset is to develop a **job recommendation system** that helps job seekers find suitable roles by analyzing their past experiences, skills, and preferences. This system aims to assist job seekers in identifying the most relevant job opportunities while also supporting recruiters in finding the best candidates for their requirements.\r\n",
    "\r\n",
    "### Purpose of Collecting the Dataset\r\n",
    "This dataset was collected for the purpose of **requirements classification**, where the goal is to:\r\n",
    "1. **Analyze Job Requirements**: Understand the skills, experiences, and qualifications required for different roles.\r\n",
    "2. **Evaluate Candidate Profiles**: Identify the suitability of candidates for specific job positions based on their profiles.\r\n",
    "3. **Perform Skill Gap Analysis**: Recommend skills or certifications to help candidates align with the requirements of their desired roles.\r\n",
    "\r\n",
    "### Objectives of the Dataset\r\n",
    "1. **Personalized Job Recommendations**: Match job postings with candidates' qualifications and aspirations.\r\n",
    "2. **Career Path Insights**: Provide recommendations for career progression based on historical job roles and skills.\r\n",
    "3. **Skill-Gap Analysis**: Identify missing qualifications to achieve desired job roles.\r\n",
    "4. **Improving Recruitment Efficiency**: Assist employers in finding well-suited candidates.\r\n",
    "\r\n",
    "By leveraging **supervised and unsupervised learning techniques**, this dataset enables the development of an intelligent job recommendation system that improves job search efficiency and enhances the overall recruitment experience for both job seekers and employers.\r\n"
   ]
  },
  {
   "cell_type": "markdown",
   "id": "618e6dbe-d2a6-46f2-b3ba-d430e8114494",
   "metadata": {},
   "source": [
    "# Source of the dataset"
   ]
  },
  {
   "cell_type": "markdown",
   "id": "aa4494ee-2aab-4a02-b896-64b0c082cde0",
   "metadata": {},
   "source": [
    "# General Information\n",
    "This dataset consists of 2000 rows and 8 columns\n",
    "The 8 columns are:\n",
    "1-\tId \n",
    "\n",
    "2-\tcareerjunction_za_courses,\n",
    "\n",
    "3-\tcareerjunction_za_employer_names,\n",
    "\n",
    "4-\tcareerjunction_za_future_jobtitles,\n",
    "\n",
    "5-\tcareerjunction_za_historical_jobtitles,\n",
    "\n",
    "6-\t'careerjunction_za_primary_jobtitle,\n",
    "\n",
    "7-\tcareerjunction_za_recent_jobtitles,\n",
    "\n",
    "8-\tcareerjunction_za_skills.\n",
    "\n",
    " The number of observations were 2000.\n",
    " Number and type of variables:\n",
    "| Variable                              | Description                                                               | Variable Type   |\n",
    "|---------------------------------------|---------------------------------------------------------------------------|-----------------|\n",
    "| ID                                    | Unique identifier for the profile.                                        | String |\n",
    "| careerjunction_za_courses             | Titles for education/courses the profile has completed.                   | List of Strings|\n",
    "| careerjunction_za_employer_names      | All employers worked for.                                                 | List of Strings|\n",
    "| careerjunction_za_future_jobtitles    | Job titles the seeker would like to have as their next job.               | List of Strings|\n",
    "| careerjunction_za_historical_jobtitles|All other job titles after the recent ones (from the 4th job title onward).| List of Strings|\n",
    "| careerjunction_za_primary_jobtitle    | Most recent job title of the profile.                                     | String |\n",
    "| careerjunction_za_recent_jobtitles    | The next job titles after the most recent one (max 2).                    | List of Strings|\n",
    "| careerjunction_za_skills              | All the skills associated with the profile.                               | List of Strings|\n",
    "\n",
    "df.careerjunction_za_future_jobtitles.value_counts().head(10)  \n",
    "     \n",
    "[]                          656\n",
    "\n",
    "[u'Software Developer']      24\n",
    "\n",
    "[u'Developer']               15\n",
    "\n",
    "[u'Java Developer']          13\n",
    "\n",
    "[u'Web Developer']            7\n",
    "\n",
    "[u'software developer']       6\n",
    "\n",
    "[u'Senior Developer']         5\n",
    "\n",
    "[u'Business Analyst']         5\n",
    "\n",
    "[u'Senior C# Developer']      4\n",
    "\n",
    "[u'Analyst']                  3\n",
    "\n",
    "•[] 656\n",
    "\n",
    "As we can see from the result above The value counts for careerjunction_za_future_jobtitles reveal that the most common future job title is an empty list ([]), which appears 656 times. This indicates that many profiles have not specified a future job title.\n",
    "\n"
   ]
  },
  {
   "cell_type": "markdown",
   "id": "db500bc4-9b48-43b6-9a3f-d750cf682193",
   "metadata": {},
   "source": [
    "# Summary of the dataset"
   ]
  },
  {
   "cell_type": "markdown",
   "id": "b116573d-c205-424f-bf72-af19a4249d23",
   "metadata": {},
   "source": [
    "# Preprocessing techniques"
   ]
  }
 ],
 "metadata": {
  "kernelspec": {
   "display_name": "Python [conda env:base] *",
   "language": "python",
   "name": "conda-base-py"
  },
  "language_info": {
   "codemirror_mode": {
    "name": "ipython",
    "version": 3
   },
   "file_extension": ".py",
   "mimetype": "text/x-python",
   "name": "python",
   "nbconvert_exporter": "python",
   "pygments_lexer": "ipython3",
   "version": "3.12.4"
  }
 },
 "nbformat": 4,
 "nbformat_minor": 5
}
