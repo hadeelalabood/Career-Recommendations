{
  "metadata": {
    "kernelspec": {
      "name": "python",
      "display_name": "Python (Pyodide)",
      "language": "python"
    },
    "language_info": {
      "codemirror_mode": {
        "name": "python",
        "version": 3
      },
      "file_extension": ".py",
      "mimetype": "text/x-python",
      "name": "python",
      "nbconvert_exporter": "python",
      "pygments_lexer": "ipython3",
      "version": "3.8"
    }
  },
  "nbformat_minor": 5,
  "nbformat": 4,
  "cells": [
    {
      "id": "a693b93c-42fc-45c2-8b91-6d915c2deadd",
      "cell_type": "code",
      "source": "# 📊 Dataset Analysis in Jupyter Notebook\n\n# تحميل المكتبات اللازمة\nimport pandas as pd\nimport matplotlib.pyplot as plt\nimport seaborn as sns\nfrom IPython.display import display\n\n# 📌 1️⃣ تحميل البيانات\ndf = pd.read_csv(\"data_science_extract.csv\")  # استبدلي \"data_science_extract.csv\" باسم ملفك\ndisplay(df.head())  # عرض أول 5 صفوف\n\n# 📌 2️⃣ تحليل القيم المفقودة\nmissing_values = df.isnull().sum()\nprint(\"\\n🔍 Missing Values per Column:\")\ndisplay(missing_values[missing_values > 0])  # عرض الأعمدة التي تحتوي على قيم مفقودة فقط\n\n# 📌 3️⃣ إحصائيات البيانات العددية\nprint(\"\\n📊 Statistical Summary:\")\ndisplay(df.describe())  # استخراج الإحصائيات الأساسية مثل المتوسط والتباين\n\n# 📌 4️⃣ توزيع عدد الكلمات في الأعمدة النصية\ncolumn_name = \"careerjunction_za_courses\"  # استبدلي باسم العمود النصي الذي تريدين تحليله\ndf[column_name] = df[column_name].astype(str)  # تحويل القيم إلى نص لتجنب الأخطاء\ndf[\"word_count\"] = df[column_name].apply(lambda x: len(x.split()))\n\nplt.figure(figsize=(8, 5))\nsns.histplot(df[\"word_count\"], bins=30, kde=True, color=\"blue\")\nplt.title(f\"Word Count Distribution in {column_name}\")\nplt.xlabel(\"Number of Words\")\nplt.ylabel(\"Frequency\")\nplt.show()\n\n# 📌 5️⃣ أكثر القيم شيوعًا في بعض الأعمدة النصية\ncolumns_to_analyze = [\"careerjunction_za_primary_jobtitle\", \"careerjunction_za_recent_jobtitles\", \"careerjunction_za_skills\"]\n\nfor col in columns_to_analyze:\n    if col in df.columns:\n        common_values = df[col].explode().value_counts().head(10)\n        \n        if not common_values.empty:\n            print(f\"\\n📌 Top 10 Common Values in {col}:\")\n            display(common_values.to_frame(name=\"Count\"))\n\n            plt.figure(figsize=(8, 5))\n            sns.barplot(x=common_values.values, y=common_values.index, palette=\"viridis\")\n            plt.title(f\"Top 10 Most Common Values in {col}\")\n            plt.xlabel(\"Count\")\n            plt.ylabel(col)\n            plt.show()\n",
      "metadata": {
        "trusted": true
      },
      "outputs": [],
      "execution_count": null
    }
  ]
}