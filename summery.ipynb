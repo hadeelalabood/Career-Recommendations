{
  "metadata": {
    "kernelspec": {
      "name": "python",
      "display_name": "Python (Pyodide)",
      "language": "python"
    },
    "language_info": {
      "codemirror_mode": {
        "name": "python",
        "version": 3
      },
      "file_extension": ".py",
      "mimetype": "text/x-python",
      "name": "python",
      "nbconvert_exporter": "python",
      "pygments_lexer": "ipython3",
      "version": "3.8"
    }
  },
  "nbformat_minor": 5,
  "nbformat": 4,
  "cells": [
    {
      "id": "78928960-ed30-4643-a9f6-29aa128311b6",
      "cell_type": "code",
      "source": "# 📊 Dataset Analysis in Jupyter Notebook\n\n# تحميل المكتبات اللازمة\nimport pandas as pd\nimport matplotlib.pyplot as plt\nimport seaborn as sns\nfrom fpdf import FPDF\nfrom IPython.display import FileLink\n\n# 📌 1️⃣ تحميل البيانات\ndf = pd.read_csv(\"data_science_extract.csv\")  #  \"your_dataset.csv\" \ndf.head()  # عرض أول 5 صفوف\n\n# 📌 2️⃣ تحليل القيم المفقودة\nmissing_values = df.isnull().sum()\nprint(\"Missing Values per Column:\")\nprint(missing_values[missing_values > 0])  # عرض الأعمدة التي تحتوي على قيم مفقودة فقط\n\n# 📌 3️⃣ إحصائيات البيانات العددية\nprint(\"\\nStatistical Summary:\")\nprint(df.describe())  # استخراج الإحصائيات الأساسية مثل المتوسط والتباين\n\n# 📌 4️⃣ توزيع عدد الكلمات في الأعمدة النصية\ncolumn_name = \"careerjunction_za_courses\"  # استبدلي باسم العمود النصي الذي تريدين تحليله\ndf[column_name] = df[column_name].astype(str)  # تحويل القيم إلى نص لتجنب الأخطاء\ndf[\"word_count\"] = df[column_name].apply(lambda x: len(x.split()))\n\nplt.figure(figsize=(8, 5))\nsns.histplot(df[\"word_count\"], bins=30, kde=True, color=\"blue\")\nplt.title(f\"Word Count Distribution in {column_name}\")\nplt.xlabel(\"Number of Words\")\nplt.ylabel(\"Frequency\")\nplt.show()\n\n# 📌 5️⃣ إنشاء ملخص وتحويله إلى PDF\npdf = FPDF()\npdf.add_page()\npdf.set_font(\"Arial\", size=12)\n\nsummary_text = \"\"\"\n1️⃣ Overview: Dataset contains job titles, skills, and courses.\n2️⃣ Distribution: Some columns have high unique values. No missing values found.\n3️⃣ Text Analysis: Word count varies significantly.\n4️⃣ Recommendations: Clean textual data and explore variable relationships.\n\"\"\"\n\npdf.multi_cell(0, 10, summary_text)\npdf.output(\"Dataset_Summary.pdf\")  # حفظ الملف\n\n# 📌 6️⃣ عرض رابط تحميل ملف الملخص\nFileLink(\"Dataset_Summary.pdf\")\n",
      "metadata": {
        "trusted": true
      },
      "outputs": [
        {
          "name": "stderr",
          "output_type": "stream",
          "text": "Matplotlib is building the font cache; this may take a moment.\n"
        },
        {
          "ename": "<class 'ModuleNotFoundError'>",
          "evalue": "No module named 'seaborn'",
          "traceback": [
            "\u001b[0;31m---------------------------------------------------------------------------\u001b[0m",
            "\u001b[0;31mModuleNotFoundError\u001b[0m                       Traceback (most recent call last)",
            "Cell \u001b[0;32mIn[1], line 6\u001b[0m\n\u001b[1;32m      4\u001b[0m \u001b[38;5;28;01mimport\u001b[39;00m \u001b[38;5;21;01mpandas\u001b[39;00m \u001b[38;5;28;01mas\u001b[39;00m \u001b[38;5;21;01mpd\u001b[39;00m\n\u001b[1;32m      5\u001b[0m \u001b[38;5;28;01mimport\u001b[39;00m \u001b[38;5;21;01mmatplotlib\u001b[39;00m\u001b[38;5;21;01m.\u001b[39;00m\u001b[38;5;21;01mpyplot\u001b[39;00m \u001b[38;5;28;01mas\u001b[39;00m \u001b[38;5;21;01mplt\u001b[39;00m\n\u001b[0;32m----> 6\u001b[0m \u001b[38;5;28;01mimport\u001b[39;00m \u001b[38;5;21;01mseaborn\u001b[39;00m \u001b[38;5;28;01mas\u001b[39;00m \u001b[38;5;21;01msns\u001b[39;00m\n\u001b[1;32m      7\u001b[0m \u001b[38;5;28;01mfrom\u001b[39;00m \u001b[38;5;21;01mfpdf\u001b[39;00m \u001b[38;5;28;01mimport\u001b[39;00m FPDF\n\u001b[1;32m      8\u001b[0m \u001b[38;5;28;01mfrom\u001b[39;00m \u001b[38;5;21;01mIPython\u001b[39;00m\u001b[38;5;21;01m.\u001b[39;00m\u001b[38;5;21;01mdisplay\u001b[39;00m \u001b[38;5;28;01mimport\u001b[39;00m FileLink\n",
            "\u001b[0;31mModuleNotFoundError\u001b[0m: No module named 'seaborn'"
          ],
          "output_type": "error"
        }
      ],
      "execution_count": 1
    },
    {
      "id": "9cd00314-2324-42a4-99af-675681ea2408",
      "cell_type": "code",
      "source": "",
      "metadata": {
        "trusted": true
      },
      "outputs": [],
      "execution_count": null
    }
  ]
}